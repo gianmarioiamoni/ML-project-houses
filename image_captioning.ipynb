{
  "nbformat": 4,
  "nbformat_minor": 0,
  "metadata": {
    "colab": {
      "provenance": [],
      "authorship_tag": "ABX9TyP13uAbKIWwPu7lojsSjSY0",
      "include_colab_link": true
    },
    "kernelspec": {
      "name": "python3",
      "display_name": "Python 3"
    },
    "language_info": {
      "name": "python"
    }
  },
  "cells": [
    {
      "cell_type": "markdown",
      "metadata": {
        "id": "view-in-github",
        "colab_type": "text"
      },
      "source": [
        "<a href=\"https://colab.research.google.com/github/gianmarioiamoni/ML-templates/blob/main/image_captioning.ipynb\" target=\"_parent\"><img src=\"https://colab.research.google.com/assets/colab-badge.svg\" alt=\"Open In Colab\"/></a>"
      ]
    },
    {
      "cell_type": "markdown",
      "source": [
        "## IMAGE CAPTIONING"
      ],
      "metadata": {
        "id": "fH2TdNz5MDTl"
      }
    },
    {
      "cell_type": "markdown",
      "source": [
        "#### Install the transformers library"
      ],
      "metadata": {
        "id": "_d3YmOdkMMYr"
      }
    },
    {
      "cell_type": "code",
      "source": [
        "from transformers import BlipProcessor, BlipForConditionalGeneration\n",
        "from PIL import Image"
      ],
      "metadata": {
        "id": "yO-dc-NWMQ7A"
      },
      "execution_count": 1,
      "outputs": []
    },
    {
      "cell_type": "markdown",
      "source": [
        "#### Initialize the processor and model from Hugging Face"
      ],
      "metadata": {
        "id": "1eFHpYdqMVwg"
      }
    },
    {
      "cell_type": "code",
      "source": [
        "processor = BlipProcessor.from_pretrained(\"Salesforce/blip-image-captioning-base\")\n",
        "model = BlipForConditionalGeneration.from_pretrained(\"Salesforce/blip-image-captioning-base\")\n"
      ],
      "metadata": {
        "colab": {
          "base_uri": "https://localhost:8080/"
        },
        "id": "9rChOUkyMbTL",
        "outputId": "c9fd0409-f7d2-4619-c5f1-e122ea80f376"
      },
      "execution_count": 2,
      "outputs": [
        {
          "output_type": "stream",
          "name": "stderr",
          "text": [
            "/usr/local/lib/python3.10/dist-packages/transformers/tokenization_utils_base.py:1601: FutureWarning: `clean_up_tokenization_spaces` was not set. It will be set to `True` by default. This behavior will be depracted in transformers v4.45, and will be then set to `False` by default. For more details check this issue: https://github.com/huggingface/transformers/issues/31884\n",
            "  warnings.warn(\n"
          ]
        }
      ]
    },
    {
      "cell_type": "markdown",
      "source": [
        "#### Load the image"
      ],
      "metadata": {
        "id": "zFWc3q4xMhJC"
      }
    },
    {
      "cell_type": "code",
      "source": [
        "image = Image.open(\"image.jpg\")"
      ],
      "metadata": {
        "id": "SbLBMfdPMl97"
      },
      "execution_count": 3,
      "outputs": []
    },
    {
      "cell_type": "markdown",
      "source": [
        "#### Preprocess the image"
      ],
      "metadata": {
        "id": "-cK3VjYZMpA5"
      }
    },
    {
      "cell_type": "code",
      "source": [
        "inputs = processor(image, return_tensors=\"pt\")"
      ],
      "metadata": {
        "id": "MjksPgMGMroo"
      },
      "execution_count": 4,
      "outputs": []
    },
    {
      "cell_type": "markdown",
      "source": [
        "#### Generate the caption"
      ],
      "metadata": {
        "id": "vrVkSFvZMuLT"
      }
    },
    {
      "cell_type": "code",
      "source": [
        "outputs = model.generate(**inputs, max_new_tokens=100)"
      ],
      "metadata": {
        "id": "9evGQxl3MxDa"
      },
      "execution_count": 5,
      "outputs": []
    },
    {
      "cell_type": "markdown",
      "source": [
        "#### Decode the caption"
      ],
      "metadata": {
        "id": "hmZx4RPDM-u2"
      }
    },
    {
      "cell_type": "code",
      "source": [
        "caption = processor.decode(outputs[0], skip_special_tokens=True)\n",
        "\n",
        "print(\"Generated caption:\", caption)"
      ],
      "metadata": {
        "colab": {
          "base_uri": "https://localhost:8080/"
        },
        "id": "qRZSqzwlNBWl",
        "outputId": "4b42fd3c-367f-4b9c-ae81-71ae40ca80d1"
      },
      "execution_count": 6,
      "outputs": [
        {
          "output_type": "stream",
          "name": "stdout",
          "text": [
            "Generated caption: a person walking down a street in a city\n"
          ]
        }
      ]
    }
  ]
}